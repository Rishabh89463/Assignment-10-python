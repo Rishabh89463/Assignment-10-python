{
 "cells": [
  {
   "cell_type": "code",
   "execution_count": 1,
   "id": "25ae0a84-47e2-4bfe-b3a7-0b14a44300ba",
   "metadata": {},
   "outputs": [],
   "source": [
    "# 1. How do you distinguish between shutil.copy() and shutil.copytree()?"
   ]
  },
  {
   "cell_type": "code",
   "execution_count": 2,
   "id": "3de5a53a-a52b-4558-afb4-74998ce2dcb6",
   "metadata": {},
   "outputs": [],
   "source": [
    "# Key Differences:\n",
    "# Scope:\n",
    "\n",
    "# shutil.copy(): Copies a single file.\n",
    "# shutil.copytree(): Copies an entire directory tree.\n",
    "# Destination Requirement:\n",
    "\n",
    "# shutil.copy(): The destination can be an existing directory or a file path.\n",
    "# shutil.copytree(): The destination must not already exist; it will be created during the operation.\n",
    "# Recursion:\n",
    "\n",
    "# shutil.copy(): Non-recursive, operates on a single file.\n",
    "# shutil.copytree(): Recursive, operates on all files and subdirectories within the specified source directory."
   ]
  },
  {
   "cell_type": "code",
   "execution_count": 3,
   "id": "eeb4aef5-a5f3-4faf-9066-875e68393f37",
   "metadata": {},
   "outputs": [],
   "source": [
    "# 2. What function is used to rename files??"
   ]
  },
  {
   "cell_type": "code",
   "execution_count": 4,
   "id": "bd9cf71b-b130-429f-9660-686933f83788",
   "metadata": {},
   "outputs": [],
   "source": [
    "# In Python, the os.rename() function is used to rename files (or directories). This function can also move files to a different directory by specifying a new path."
   ]
  },
  {
   "cell_type": "code",
   "execution_count": 5,
   "id": "cd4f0055-a8c3-40da-8eac-02d0309c0ed4",
   "metadata": {},
   "outputs": [],
   "source": [
    "# 3. What is the difference between the delete functions in the send2trash and shutil modules?"
   ]
  },
  {
   "cell_type": "code",
   "execution_count": 6,
   "id": "c1ef1410-6863-4822-9719-ad5f61b40c6a",
   "metadata": {},
   "outputs": [],
   "source": [
    "# Key Differences:\n",
    "# Deletion Type:\n",
    "\n",
    "# send2trash: Soft delete; moves items to the trash/recycle bin.\n",
    "# shutil and os: Hard delete; permanently removes items from the file system.\n",
    "# Recoverability:\n",
    "\n",
    "# send2trash: Items can be recovered from the trash/recycle bin.\n",
    "# shutil and os: Items are permanently deleted and cannot be recovered through the system’s trash.\n",
    "# Use Cases:\n",
    "\n",
    "# send2trash: When you want to provide a safety net and allow users to recover deleted items.\n",
    "# shutil and os: When you want to ensure that files or directories are permanently removed."
   ]
  },
  {
   "cell_type": "code",
   "execution_count": 7,
   "id": "6b29cca5-996e-4341-af3b-6a393c6853a2",
   "metadata": {},
   "outputs": [],
   "source": [
    "# 4.ZipFile objects have a close() method just like File objects’ close() method. What ZipFile method is\n",
    "# equivalent to File objects’ open() method?"
   ]
  },
  {
   "cell_type": "code",
   "execution_count": 8,
   "id": "85b00434-b6d0-49b8-a678-1330193b84cd",
   "metadata": {},
   "outputs": [],
   "source": [
    "# For ZipFile objects, the method that is equivalent to the open() method for file objects is ZipFile.open(). This method is used to open a file within the ZIP archive for reading or writing, similar to how open() is used to open a file on the file system.\n",
    "\n",
    "# ZipFile.open()\n",
    "# Purpose: Opens a file within the ZIP archive.\n",
    "# Usage: Allows you to access and work with a file inside the ZIP archive without extracting it.\n",
    "# Function Signature: ZipFile.open(name, mode='r', force_zip64=False)\n",
    "# name: The name of the file within the ZIP archive to open.\n",
    "# mode: The mode in which to open the file, 'r' for reading and 'w' for writing.\n",
    "# force_zip64: Whether to force the use of ZIP64 (default is False)."
   ]
  },
  {
   "cell_type": "code",
   "execution_count": 9,
   "id": "2d19c827-3892-440e-86a8-73413c31a098",
   "metadata": {},
   "outputs": [],
   "source": [
    "# 5. Create a programme that searches a folder tree for files with a certain file extension (such as .pdf\n",
    "# or .jpg). Copy these files from whatever location they are in to a new folder."
   ]
  },
  {
   "cell_type": "code",
   "execution_count": 10,
   "id": "5b5e09b2-585f-4b86-9e96-67e8a870a26a",
   "metadata": {},
   "outputs": [],
   "source": [
    "import os\n",
    "import shutil\n",
    "from pathlib import Path\n",
    "\n",
    "def find_and_copy_files(src_folder, dest_folder, extension):\n",
    "    \"\"\"\n",
    "    Searches through the src_folder directory tree for files with the given extension\n",
    "    and copies them to the dest_folder directory.\n",
    "\n",
    "    :param src_folder: The source directory to search for files.\n",
    "    :param dest_folder: The destination directory where files will be copied.\n",
    "    :param extension: The file extension to search for (e.g., '.pdf', '.jpg').\n",
    "    \"\"\"\n",
    "    # Create the destination folder if it doesn't exist\n",
    "    Path(dest_folder).mkdir(parents=True, exist_ok=True)\n",
    "\n",
    "    # Walk through the source folder tree\n",
    "    for root, dirs, files in os.walk(src_folder):\n",
    "        for file in files:\n",
    "            # Check if the file has the specified extension\n",
    "            if file.endswith(extension):\n",
    "                src_path = os.path.join(root, file)\n",
    "                dest_path = os.path.join(dest_folder, file)\n",
    "                # Copy the file to the destination folder\n",
    "                shutil.copy(src_path, dest_path)\n",
    "                print(f'Copied {src_path} to {dest_path}')\n",
    "\n",
    "# Example usage\n",
    "src_folder = 'path/to/source_folder'\n",
    "dest_folder = 'path/to/destination_folder'\n",
    "extension = '.pdf'  # or '.jpg', '.txt', etc.\n",
    "\n",
    "find_and_copy_files(src_folder, dest_folder, extension)\n"
   ]
  },
  {
   "cell_type": "code",
   "execution_count": null,
   "id": "d26d2469-506f-4525-a8f9-35fe485de736",
   "metadata": {},
   "outputs": [],
   "source": []
  }
 ],
 "metadata": {
  "kernelspec": {
   "display_name": "Python 3 (ipykernel)",
   "language": "python",
   "name": "python3"
  },
  "language_info": {
   "codemirror_mode": {
    "name": "ipython",
    "version": 3
   },
   "file_extension": ".py",
   "mimetype": "text/x-python",
   "name": "python",
   "nbconvert_exporter": "python",
   "pygments_lexer": "ipython3",
   "version": "3.10.8"
  }
 },
 "nbformat": 4,
 "nbformat_minor": 5
}
